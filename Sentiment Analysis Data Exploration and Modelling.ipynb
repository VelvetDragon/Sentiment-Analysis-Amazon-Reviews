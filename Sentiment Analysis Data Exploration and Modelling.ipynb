{
 "cells": [
  {
   "cell_type": "markdown",
   "id": "38909204-7828-4a2c-a13a-f485ae463fc9",
   "metadata": {},
   "source": [
    "# Amazon Alexa Review - Sentiment Analysis\r\n",
    "Examining the Amazon Alexa dataset and developing classification models to determine whether the sentiment of a given input sentence is positive or negative.."
   ]
  },
  {
   "cell_type": "markdown",
   "id": "e7fa307a-0f1e-4252-b6ad-34ee2012bbd4",
   "metadata": {},
   "source": [
    "## Importing Libraries"
   ]
  },
  {
   "cell_type": "code",
   "execution_count": 3,
   "id": "848c07e9-5586-477e-852e-ee29fcc65e59",
   "metadata": {},
   "outputs": [
    {
     "name": "stderr",
     "output_type": "stream",
     "text": [
      "[nltk_data] Downloading package stopwords to\n",
      "[nltk_data]     C:\\Users\\su1qt\\AppData\\Roaming\\nltk_data...\n",
      "[nltk_data]   Package stopwords is already up-to-date!\n"
     ]
    }
   ],
   "source": [
    "import numpy as np\n",
    "import pandas as pd\n",
    "import matplotlib.pyplot as plt\n",
    "import seaborn as sns\n",
    "import nltk\n",
    "from nltk.stem.porter import PorterStemmer\n",
    "nltk.download('stopwords')\n",
    "from nltk.corpus import stopwords\n",
    "STOPWORDS = set(stopwords.words('english'))\n",
    "\n",
    "from sklearn.model_selection import train_test_split\n",
    "from sklearn.preprocessing import MinMaxScaler\n",
    "from sklearn.feature_extraction.text import CountVectorizer\n",
    "from sklearn.model_selection import cross_val_score\n",
    "from sklearn.ensemble import RandomForestClassifier\n",
    "from sklearn.metrics import confusion_matrix, ConfusionMatrixDisplay\n",
    "from sklearn.model_selection import GridSearchCV\n",
    "from sklearn.model_selection import StratifiedKFold\n",
    "from sklearn.metrics import accuracy_score\n",
    "from wordcloud import WordCloud\n",
    "from sklearn.tree import DecisionTreeClassifier\n",
    "from xgboost import XGBClassifier\n",
    "import pickle\n",
    "import re"
   ]
  },
  {
   "cell_type": "markdown",
   "id": "fffbf28a-28d5-4f5e-b57b-c475875ac95d",
   "metadata": {},
   "source": [
    "## Exploratory Data Analysis"
   ]
  },
  {
   "cell_type": "code",
   "execution_count": 7,
   "id": "3389d819-3894-48e1-b8d0-e44eb90a291f",
   "metadata": {},
   "outputs": [],
   "source": [
    "# Loading the data\n",
    "\n",
    "amazon_data = pd.read_csv('amazon_alexa.tsv', delimiter = '\\t', quoting = 3)"
   ]
  },
  {
   "cell_type": "code",
   "execution_count": 9,
   "id": "fb6f0a60-cefe-47a7-8e7c-88bf524806b2",
   "metadata": {},
   "outputs": [
    {
     "data": {
      "text/plain": [
       "(3150, 5)"
      ]
     },
     "execution_count": 9,
     "metadata": {},
     "output_type": "execute_result"
    }
   ],
   "source": [
    "amazon_data.shape"
   ]
  },
  {
   "cell_type": "code",
   "execution_count": 11,
   "id": "e90406cd-0089-4f59-9a6f-2a865f52ec41",
   "metadata": {},
   "outputs": [
    {
     "data": {
      "text/html": [
       "<div>\n",
       "<style scoped>\n",
       "    .dataframe tbody tr th:only-of-type {\n",
       "        vertical-align: middle;\n",
       "    }\n",
       "\n",
       "    .dataframe tbody tr th {\n",
       "        vertical-align: top;\n",
       "    }\n",
       "\n",
       "    .dataframe thead th {\n",
       "        text-align: right;\n",
       "    }\n",
       "</style>\n",
       "<table border=\"1\" class=\"dataframe\">\n",
       "  <thead>\n",
       "    <tr style=\"text-align: right;\">\n",
       "      <th></th>\n",
       "      <th>rating</th>\n",
       "      <th>date</th>\n",
       "      <th>variation</th>\n",
       "      <th>verified_reviews</th>\n",
       "      <th>feedback</th>\n",
       "    </tr>\n",
       "  </thead>\n",
       "  <tbody>\n",
       "    <tr>\n",
       "      <th>0</th>\n",
       "      <td>5</td>\n",
       "      <td>31-Jul-18</td>\n",
       "      <td>Charcoal Fabric</td>\n",
       "      <td>Love my Echo!</td>\n",
       "      <td>1</td>\n",
       "    </tr>\n",
       "    <tr>\n",
       "      <th>1</th>\n",
       "      <td>5</td>\n",
       "      <td>31-Jul-18</td>\n",
       "      <td>Charcoal Fabric</td>\n",
       "      <td>Loved it!</td>\n",
       "      <td>1</td>\n",
       "    </tr>\n",
       "    <tr>\n",
       "      <th>2</th>\n",
       "      <td>4</td>\n",
       "      <td>31-Jul-18</td>\n",
       "      <td>Walnut Finish</td>\n",
       "      <td>\"Sometimes while playing a game, you can answe...</td>\n",
       "      <td>1</td>\n",
       "    </tr>\n",
       "    <tr>\n",
       "      <th>3</th>\n",
       "      <td>5</td>\n",
       "      <td>31-Jul-18</td>\n",
       "      <td>Charcoal Fabric</td>\n",
       "      <td>\"I have had a lot of fun with this thing. My 4...</td>\n",
       "      <td>1</td>\n",
       "    </tr>\n",
       "    <tr>\n",
       "      <th>4</th>\n",
       "      <td>5</td>\n",
       "      <td>31-Jul-18</td>\n",
       "      <td>Charcoal Fabric</td>\n",
       "      <td>Music</td>\n",
       "      <td>1</td>\n",
       "    </tr>\n",
       "  </tbody>\n",
       "</table>\n",
       "</div>"
      ],
      "text/plain": [
       "   rating       date         variation  \\\n",
       "0       5  31-Jul-18  Charcoal Fabric    \n",
       "1       5  31-Jul-18  Charcoal Fabric    \n",
       "2       4  31-Jul-18    Walnut Finish    \n",
       "3       5  31-Jul-18  Charcoal Fabric    \n",
       "4       5  31-Jul-18  Charcoal Fabric    \n",
       "\n",
       "                                    verified_reviews  feedback  \n",
       "0                                      Love my Echo!         1  \n",
       "1                                          Loved it!         1  \n",
       "2  \"Sometimes while playing a game, you can answe...         1  \n",
       "3  \"I have had a lot of fun with this thing. My 4...         1  \n",
       "4                                              Music         1  "
      ]
     },
     "execution_count": 11,
     "metadata": {},
     "output_type": "execute_result"
    }
   ],
   "source": [
    "amazon_data.head()"
   ]
  },
  {
   "cell_type": "code",
   "execution_count": 15,
   "id": "979ce048-76a8-4b4d-b889-cb72d9597c99",
   "metadata": {},
   "outputs": [
    {
     "data": {
      "text/plain": [
       "Index(['rating', 'date', 'variation', 'verified_reviews', 'feedback'], dtype='object')"
      ]
     },
     "execution_count": 15,
     "metadata": {},
     "output_type": "execute_result"
    }
   ],
   "source": [
    "# Checking column names\n",
    "amazon_data.columns"
   ]
  },
  {
   "cell_type": "code",
   "execution_count": 19,
   "id": "15ae69c0-a94c-4389-8959-017263ea4ac3",
   "metadata": {},
   "outputs": [
    {
     "data": {
      "text/plain": [
       "rating              0\n",
       "date                0\n",
       "variation           0\n",
       "verified_reviews    1\n",
       "feedback            0\n",
       "dtype: int64"
      ]
     },
     "execution_count": 19,
     "metadata": {},
     "output_type": "execute_result"
    }
   ],
   "source": [
    "# Checking for any null values\n",
    "amazon_data.isnull().sum()"
   ]
  },
  {
   "cell_type": "code",
   "execution_count": 21,
   "id": "301023ef-c028-4394-b340-5e40aa2f6b70",
   "metadata": {},
   "outputs": [
    {
     "data": {
      "text/html": [
       "<div>\n",
       "<style scoped>\n",
       "    .dataframe tbody tr th:only-of-type {\n",
       "        vertical-align: middle;\n",
       "    }\n",
       "\n",
       "    .dataframe tbody tr th {\n",
       "        vertical-align: top;\n",
       "    }\n",
       "\n",
       "    .dataframe thead th {\n",
       "        text-align: right;\n",
       "    }\n",
       "</style>\n",
       "<table border=\"1\" class=\"dataframe\">\n",
       "  <thead>\n",
       "    <tr style=\"text-align: right;\">\n",
       "      <th></th>\n",
       "      <th>rating</th>\n",
       "      <th>date</th>\n",
       "      <th>variation</th>\n",
       "      <th>verified_reviews</th>\n",
       "      <th>feedback</th>\n",
       "    </tr>\n",
       "  </thead>\n",
       "  <tbody>\n",
       "    <tr>\n",
       "      <th>473</th>\n",
       "      <td>2</td>\n",
       "      <td>29-Jun-18</td>\n",
       "      <td>White</td>\n",
       "      <td>NaN</td>\n",
       "      <td>0</td>\n",
       "    </tr>\n",
       "  </tbody>\n",
       "</table>\n",
       "</div>"
      ],
      "text/plain": [
       "     rating       date variation verified_reviews  feedback\n",
       "473       2  29-Jun-18     White              NaN         0"
      ]
     },
     "execution_count": 21,
     "metadata": {},
     "output_type": "execute_result"
    }
   ],
   "source": [
    "# Checking the row for the only null value in the column verigied_reviews\n",
    "amazon_data[amazon_data['verified_reviews'].isna() == True]"
   ]
  },
  {
   "cell_type": "code",
   "execution_count": 23,
   "id": "79553f1c-1309-4ef7-8f93-46ffa6a32ac2",
   "metadata": {},
   "outputs": [],
   "source": [
    "# Dropping that record\n",
    "\n",
    "amazon_data.dropna(inplace = True)"
   ]
  },
  {
   "cell_type": "code",
   "execution_count": 25,
   "id": "e59187db-77d5-4895-903b-4b201533c50e",
   "metadata": {},
   "outputs": [],
   "source": [
    "#Creating a new column 'length' that will contain the length of the string in 'verified_reviews' column\n",
    "\n",
    "amazon_data['length'] = amazon_data['verified_reviews'].apply(len)"
   ]
  },
  {
   "cell_type": "code",
   "execution_count": 27,
   "id": "28cab85a-2af0-4605-b981-9da7598b85ea",
   "metadata": {},
   "outputs": [
    {
     "data": {
      "text/html": [
       "<div>\n",
       "<style scoped>\n",
       "    .dataframe tbody tr th:only-of-type {\n",
       "        vertical-align: middle;\n",
       "    }\n",
       "\n",
       "    .dataframe tbody tr th {\n",
       "        vertical-align: top;\n",
       "    }\n",
       "\n",
       "    .dataframe thead th {\n",
       "        text-align: right;\n",
       "    }\n",
       "</style>\n",
       "<table border=\"1\" class=\"dataframe\">\n",
       "  <thead>\n",
       "    <tr style=\"text-align: right;\">\n",
       "      <th></th>\n",
       "      <th>rating</th>\n",
       "      <th>date</th>\n",
       "      <th>variation</th>\n",
       "      <th>verified_reviews</th>\n",
       "      <th>feedback</th>\n",
       "      <th>length</th>\n",
       "    </tr>\n",
       "  </thead>\n",
       "  <tbody>\n",
       "    <tr>\n",
       "      <th>0</th>\n",
       "      <td>5</td>\n",
       "      <td>31-Jul-18</td>\n",
       "      <td>Charcoal Fabric</td>\n",
       "      <td>Love my Echo!</td>\n",
       "      <td>1</td>\n",
       "      <td>13</td>\n",
       "    </tr>\n",
       "    <tr>\n",
       "      <th>1</th>\n",
       "      <td>5</td>\n",
       "      <td>31-Jul-18</td>\n",
       "      <td>Charcoal Fabric</td>\n",
       "      <td>Loved it!</td>\n",
       "      <td>1</td>\n",
       "      <td>9</td>\n",
       "    </tr>\n",
       "    <tr>\n",
       "      <th>2</th>\n",
       "      <td>4</td>\n",
       "      <td>31-Jul-18</td>\n",
       "      <td>Walnut Finish</td>\n",
       "      <td>\"Sometimes while playing a game, you can answe...</td>\n",
       "      <td>1</td>\n",
       "      <td>197</td>\n",
       "    </tr>\n",
       "    <tr>\n",
       "      <th>3</th>\n",
       "      <td>5</td>\n",
       "      <td>31-Jul-18</td>\n",
       "      <td>Charcoal Fabric</td>\n",
       "      <td>\"I have had a lot of fun with this thing. My 4...</td>\n",
       "      <td>1</td>\n",
       "      <td>174</td>\n",
       "    </tr>\n",
       "    <tr>\n",
       "      <th>4</th>\n",
       "      <td>5</td>\n",
       "      <td>31-Jul-18</td>\n",
       "      <td>Charcoal Fabric</td>\n",
       "      <td>Music</td>\n",
       "      <td>1</td>\n",
       "      <td>5</td>\n",
       "    </tr>\n",
       "  </tbody>\n",
       "</table>\n",
       "</div>"
      ],
      "text/plain": [
       "   rating       date         variation  \\\n",
       "0       5  31-Jul-18  Charcoal Fabric    \n",
       "1       5  31-Jul-18  Charcoal Fabric    \n",
       "2       4  31-Jul-18    Walnut Finish    \n",
       "3       5  31-Jul-18  Charcoal Fabric    \n",
       "4       5  31-Jul-18  Charcoal Fabric    \n",
       "\n",
       "                                    verified_reviews  feedback  length  \n",
       "0                                      Love my Echo!         1      13  \n",
       "1                                          Loved it!         1       9  \n",
       "2  \"Sometimes while playing a game, you can answe...         1     197  \n",
       "3  \"I have had a lot of fun with this thing. My 4...         1     174  \n",
       "4                                              Music         1       5  "
      ]
     },
     "execution_count": 27,
     "metadata": {},
     "output_type": "execute_result"
    }
   ],
   "source": [
    "amazon_data.head()"
   ]
  },
  {
   "cell_type": "code",
   "execution_count": 35,
   "id": "82674084-5834-4e2a-a77d-feef52feccd1",
   "metadata": {},
   "outputs": [
    {
     "name": "stdout",
     "output_type": "stream",
     "text": [
      "\"I sent it to my 85 year old Dad, and he talks to it constantly.\"\n",
      "65\n"
     ]
    },
    {
     "data": {
      "text/plain": [
       "np.int64(65)"
      ]
     },
     "execution_count": 35,
     "metadata": {},
     "output_type": "execute_result"
    }
   ],
   "source": [
    "#Randomly checking for 10th record\n",
    "print(amazon_data.iloc[10]['verified_reviews'])\n",
    "print(len(amazon_data.iloc[10]['verified_reviews']))\n",
    "print(amazon_data.iloc[10]['length'])"
   ]
  },
  {
   "cell_type": "markdown",
   "id": "cca860a1-9fba-419f-b880-260a0d420f05",
   "metadata": {},
   "source": [
    "We can observe that the review length matches the value in the length column for that entry."
   ]
  },
  {
   "cell_type": "markdown",
   "id": "1dda995f-3f3b-4f13-acda-1d2381d36bc1",
   "metadata": {},
   "source": [
    "#### Checking Datatypes "
   ]
  },
  {
   "cell_type": "code",
   "execution_count": 41,
   "id": "5aec3172-0849-48f1-bb52-1567bc24de3e",
   "metadata": {},
   "outputs": [
    {
     "data": {
      "text/plain": [
       "rating               int64\n",
       "date                object\n",
       "variation           object\n",
       "verified_reviews    object\n",
       "feedback             int64\n",
       "length               int64\n",
       "dtype: object"
      ]
     },
     "execution_count": 41,
     "metadata": {},
     "output_type": "execute_result"
    }
   ],
   "source": [
    "amazon_data.dtypes"
   ]
  },
  {
   "cell_type": "markdown",
   "id": "2b6f4abd-71bf-4655-9b6e-8c150147b72a",
   "metadata": {},
   "source": [
    "- rating, feedback and length are integer values\n",
    "- date, variation and verified_reviews are string values"
   ]
  },
  {
   "cell_type": "markdown",
   "id": "ba0d1523-fb93-4582-ac3f-3cd6bb91f3e7",
   "metadata": {},
   "source": [
    "## Analyzing rating column\n",
    "This column refers to the rating of the variation given by the user"
   ]
  },
  {
   "cell_type": "code",
   "execution_count": 47,
   "id": "01eeb692-6b21-4f1a-a0f9-0453259850b0",
   "metadata": {},
   "outputs": [
    {
     "data": {
      "text/plain": [
       "rating\n",
       "5    2286\n",
       "4     455\n",
       "1     161\n",
       "3     152\n",
       "2      95\n",
       "Name: count, dtype: int64"
      ]
     },
     "execution_count": 47,
     "metadata": {},
     "output_type": "execute_result"
    }
   ],
   "source": [
    "amazon_data['rating'].value_counts()"
   ]
  },
  {
   "cell_type": "code",
   "execution_count": 51,
   "id": "46cb8979-129a-4bbe-8676-1b63ddeafe54",
   "metadata": {},
   "outputs": [
    {
     "data": {
      "image/png": "[encoded data removed]",
      "text/plain": [
       "<Figure size 640x480 with 1 Axes>"
      ]
     },
     "metadata": {},
     "output_type": "display_data"
    }
   ],
   "source": [
    "#Bar plot to visualize the total counts of each rating\n",
    "\n",
    "amazon_data['rating'].value_counts().plot.bar(color = 'green')\n",
    "plt.title('Rating distribution count')\n",
    "plt.xlabel('Ratings')\n",
    "plt.ylabel('Count')\n",
    "plt.show()"
   ]
  },
  {
   "cell_type": "code",
   "execution_count": 61,
   "id": "83a40bd1-cee0-4e92-b436-f1a03b5fbf9f",
   "metadata": {},
   "outputs": [
    {
     "data": {
      "image/png": "[encoded data removed]",
      "text/plain": [
       "<Figure size 700x700 with 1 Axes>"
      ]
     },
     "metadata": {},
     "output_type": "display_data"
    }
   ],
   "source": [
    "# Plotting the pie chart for % distribution of rating\n",
    "fig = plt.figure(figsize=(7,7))\n",
    "\n",
    "colors = ('red', 'green', 'blue','orange','yellow')\n",
    "\n",
    "wp = {'linewidth':1, \"edgecolor\":'black'}\n",
    "\n",
    "tags = amazon_data['rating'].value_counts()/amazon_data.shape[0]\n",
    "\n",
    "explode=(0.1,0.1,0.1,0.1,0.1)\n",
    "\n",
    "tags.plot(kind='pie', autopct=\"%1.1f%%\", shadow=True, colors=colors, startangle=90, wedgeprops=wp, explode=explode, label='Percentage wise distrubution of rating')\n",
    "\n",
    "from io import  BytesIO\n",
    "\n",
    "graph = BytesIO()\n",
    "\n",
    "fig.savefig(graph, format=\"png\")"
   ]
  },
  {
   "cell_type": "markdown",
   "id": "814f061a-0865-41a9-96e2-30d388149f27",
   "metadata": {},
   "source": [
    "## Analyzing Feedback Column\n",
    "This column refers to the feedback of the verified review"
   ]
  },
  {
   "cell_type": "code",
   "execution_count": 65,
   "id": "371b703e-8af8-4955-a086-9d27a85c1bff",
   "metadata": {},
   "outputs": [
    {
     "data": {
      "text/plain": [
       "feedback\n",
       "1    2893\n",
       "0     256\n",
       "Name: count, dtype: int64"
      ]
     },
     "execution_count": 65,
     "metadata": {},
     "output_type": "execute_result"
    }
   ],
   "source": [
    "amazon_data['feedback'].value_counts()"
   ]
  },
  {
   "cell_type": "markdown",
   "id": "06e86108-b95b-4439-b292-9585d008c7ef",
   "metadata": {},
   "source": [
    "There are 2 distinct values of 'feedback' present - 0 and 1. Let's see what kind of review each value corresponds to."
   ]
  },
  {
   "cell_type": "code",
   "execution_count": null,
   "id": "5831aa8a-d683-4650-a4d5-fcd056eb5efc",
   "metadata": {},
   "outputs": [],
   "source": [
    " "
   ]
  }
 ],
 "metadata": {
  "kernelspec": {
   "display_name": "Python 3 (ipykernel)",
   "language": "python",
   "name": "python3"
  },
  "language_info": {
   "codemirror_mode": {
    "name": "ipython",
    "version": 3
   },
   "file_extension": ".py",
   "mimetype": "text/x-python",
   "name": "python",
   "nbconvert_exporter": "python",
   "pygments_lexer": "ipython3",
   "version": "3.12.2"
  }
 },
 "nbformat": 4,
 "nbformat_minor": 5
}
